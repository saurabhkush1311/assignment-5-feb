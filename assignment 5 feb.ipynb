{
 "cells": [
  {
   "cell_type": "code",
   "execution_count": 1,
   "id": "cc028a4d-8ed0-4c25-86d4-18879007bfef",
   "metadata": {},
   "outputs": [
    {
     "name": "stdout",
     "output_type": "stream",
     "text": [
      "5\n"
     ]
    }
   ],
   "source": [
    "#Question 1:\\\n",
    "#Answer:\n",
    "# Python is an object oriented programming language.\n",
    "\n",
    "# Almost everything in Python is an object, with its properties and methods.\n",
    "\n",
    "# A Class is like an object constructor, or a \"blueprint\" for creating objects.\n",
    "\n",
    "#example of class:\n",
    "class my_class:\n",
    "    x = 5\n",
    "#example of object:\n",
    "p1 = my_class()\n",
    "print(p1.x)"
   ]
  },
  {
   "cell_type": "code",
   "execution_count": 2,
   "id": "f897e6ae-d9bd-4717-afef-13b7e58462b6",
   "metadata": {},
   "outputs": [],
   "source": [
    "#Question 2:\n",
    "# #Answer: Four pillars of OOPS are:\n",
    "#         1. Inheritance\n",
    "#         2. Polymorphism\n",
    "#         3. Encapsulation\n",
    "#         4. Abstraction"
   ]
  },
  {
   "cell_type": "code",
   "execution_count": 3,
   "id": "3e726ecc-e345-4b8e-b1e9-73e4aeec4510",
   "metadata": {},
   "outputs": [],
   "source": [
    "#Question 3:\n",
    "#Answer: __init__ is used to pass data in a class\n",
    "class impact_batch:\n",
    "    def __init__(self,std_id,course,email_id,phn_number):\n",
    "        self.std_id = std_id\n",
    "        self.course = course\n",
    "        self.email_id = email_id\n",
    "        self.phn_number = phn_number\n",
    "    def details(self):\n",
    "        return self.std_id,self.course,self.email_id,self.phn_number"
   ]
  },
  {
   "cell_type": "code",
   "execution_count": 6,
   "id": "a79bd522-f9bf-42cc-8eb5-3b6889af2bca",
   "metadata": {},
   "outputs": [],
   "source": [
    "saurabh = impact_batch(123,\"datascience\",\"aman@gmail.com\",8846547384)"
   ]
  },
  {
   "cell_type": "code",
   "execution_count": 7,
   "id": "13291e8c-9c63-4c9a-b500-9d2ed01956f1",
   "metadata": {},
   "outputs": [
    {
     "name": "stdout",
     "output_type": "stream",
     "text": [
      "(123, 'datascience', 'aman@gmail.com', 8846547384)\n"
     ]
    }
   ],
   "source": [
    "print(saurabh.details())"
   ]
  },
  {
   "cell_type": "code",
   "execution_count": 8,
   "id": "bcd3c3c9-fc9b-4989-9111-d84d3b73efb4",
   "metadata": {},
   "outputs": [
    {
     "data": {
      "text/plain": [
       "'datascience'"
      ]
     },
     "execution_count": 8,
     "metadata": {},
     "output_type": "execute_result"
    }
   ],
   "source": [
    "saurabh.course"
   ]
  },
  {
   "cell_type": "code",
   "execution_count": 9,
   "id": "b14617f7-5a71-47c9-b68d-ad7b77ebcd6a",
   "metadata": {},
   "outputs": [
    {
     "data": {
      "text/plain": [
       "8846547384"
      ]
     },
     "execution_count": 9,
     "metadata": {},
     "output_type": "execute_result"
    }
   ],
   "source": [
    "saurabh.phn_number"
   ]
  },
  {
   "cell_type": "code",
   "execution_count": 10,
   "id": "7a465b19-f6d8-40bd-a481-e7cea3f8f39f",
   "metadata": {},
   "outputs": [
    {
     "data": {
      "text/plain": [
       "123"
      ]
     },
     "execution_count": 10,
     "metadata": {},
     "output_type": "execute_result"
    }
   ],
   "source": [
    "saurabh.std_id"
   ]
  },
  {
   "cell_type": "code",
   "execution_count": 12,
   "id": "70ff3263-ef02-45cc-a468-aaf4cedc46ce",
   "metadata": {},
   "outputs": [],
   "source": [
    "#Question 4:\n",
    "#Answer:\n",
    "# self is used in OOPS to access variables that belongs to the class."
   ]
  },
  {
   "cell_type": "code",
   "execution_count": 17,
   "id": "763cf566-6a09-4dea-965e-02f26a464c12",
   "metadata": {},
   "outputs": [
    {
     "name": "stdout",
     "output_type": "stream",
     "text": [
      "having x acres of land\n",
      "having y rupees\n",
      "WEBSITE IS READY\n",
      "BACKEND TASK COMLETED USING :  MONGO DB AND NODE.JS\n",
      "FRONTEND TASK COMLETED USING :  HTML,CSS AND JAVACRIPT\n",
      "Saurabh Kushwaha\n",
      "Aman Kushwaha\n",
      "MY NAME IS AMAN  Kushwaha\n",
      "MY NAME IS SAURABH  Kushwaha\n",
      "MY SURNMAE IS Kushwaha\n"
     ]
    }
   ],
   "source": [
    "#Question 5:\n",
    "#Answer:Inheritance allows us to define a class that inherits all the methods and properties from another class.\n",
    "\"\"\" There are four types of inheritance.\n",
    "    1.Single\n",
    "    2.Multiple\n",
    "    3.Multilevel\n",
    "    4.Hierarchical \"\"\"\n",
    "\n",
    "#example of single inheritance:\n",
    "\n",
    "class father:\n",
    "    def land(self):\n",
    "        print(\"having x acres of land\")\n",
    "        \n",
    "class son(father):\n",
    "    def money(self):\n",
    "        print(\"having y rupees\")\n",
    "        \n",
    "s = son()\n",
    "s.land()\n",
    "s.money()\n",
    "\n",
    "#example of multiple inheritance in python\n",
    "\n",
    "class saurabh:\n",
    "    front = \"HTML,CSS AND JAVACRIPT\"\n",
    "    def frontend(self):\n",
    "        print(\"FRONTEND TASK COMLETED USING : \",self.front)\n",
    "        \n",
    "class avaneesh:\n",
    "    back = \"MONGO DB AND NODE.JS\"\n",
    "    def backend(self):\n",
    "        print(\"BACKEND TASK COMLETED USING : \",self.back)\n",
    "        \n",
    "class team(saurabh,avaneesh):\n",
    "    def website(self):\n",
    "        print(\"WEBSITE IS READY\")\n",
    "        \n",
    "t = team()\n",
    "t.website()\n",
    "t.backend()\n",
    "t.frontend()\n",
    "\n",
    "#example of multilevel inheritance:\n",
    "\n",
    "class father:\n",
    "    surname = \"Kushwaha\"\n",
    "class son(father):\n",
    "    def show(self):\n",
    "        print(\"Saurabh\",self.surname)\n",
    "class gson(son):\n",
    "    def show1(self):\n",
    "        print(\"Aman\",self.surname)\n",
    "        \n",
    "s = son()\n",
    "s.show()\n",
    "\n",
    "gs = gson()\n",
    "gs.show1()\n",
    "\n",
    "#example of hierarchical inheritance:\n",
    "\n",
    "class father:\n",
    "    surname = \"Kushwaha\"\n",
    "    def show(self):\n",
    "        print(\"MY SURNMAE IS\",self.surname)\n",
    "        \n",
    "class son1(father):\n",
    "    def disp(self):\n",
    "        print(\"MY NAME IS AMAN \",self.surname)\n",
    "        \n",
    "class son2(father):\n",
    "    def disp2(self):\n",
    "        print(\"MY NAME IS SAURABH \",self.surname)\n",
    "        \n",
    "s1 = son1()\n",
    "s2 = son2()\n",
    "s0 = father()\n",
    "\n",
    "s1.disp()\n",
    "s2.disp2()\n",
    "s0.show()\n",
    "\n",
    "\n",
    "\n"
   ]
  },
  {
   "cell_type": "code",
   "execution_count": null,
   "id": "b68d2c8c-30ea-4702-953c-72c343b82396",
   "metadata": {},
   "outputs": [],
   "source": []
  }
 ],
 "metadata": {
  "kernelspec": {
   "display_name": "Python 3 (ipykernel)",
   "language": "python",
   "name": "python3"
  },
  "language_info": {
   "codemirror_mode": {
    "name": "ipython",
    "version": 3
   },
   "file_extension": ".py",
   "mimetype": "text/x-python",
   "name": "python",
   "nbconvert_exporter": "python",
   "pygments_lexer": "ipython3",
   "version": "3.10.8"
  }
 },
 "nbformat": 4,
 "nbformat_minor": 5
}
